{
 "cells": [
  {
   "cell_type": "code",
   "execution_count": 85,
   "metadata": {},
   "outputs": [],
   "source": [
    "import copy\n",
    "# Definition for singly-linked list.\n",
    "class ListNode:\n",
    "    def __init__(self, val=0, next=None):\n",
    "        self.val = val\n",
    "        self.next = next\n",
    "class Solution:\n",
    "    def addTwoNumbers(self, l1: ListNode, l2: ListNode) -> ListNode:\n",
    "        temp = 0\n",
    "        temp_list = ListNode()\n",
    "        result = temp_list\n",
    "        while l1 or l2 or temp:\n",
    "            val1 = (l1.val if l1 else 0)\n",
    "            val2 = (l2.val if l2 else 0)\n",
    "            l1 = (l1.next if l1 else None)\n",
    "            l2 = (l2.next if l2 else None)\n",
    "            temp, out = divmod(val1+val2+temp,10)\n",
    "            temp_list.next = ListNode(val=out)\n",
    "            temp_list = temp_list.next\n",
    "        return(result.next)\n",
    "def ListNodeNum(l:list) -> ListNode:\n",
    "    LN = ListNode()\n",
    "    LN_result = LN\n",
    "    for i in l:\n",
    "        LN.next = ListNode(i)\n",
    "        LN = LN.next\n",
    "    return(LN_result.next)\n",
    "def PrintListNode(l:ListNode)-> list:\n",
    "    nums = []\n",
    "    while (l!=None):\n",
    "        #print(l.val,end='')\n",
    "        nums.append(l.val)\n",
    "        l = l.next\n",
    "    nums.reverse()\n",
    "    return(nums)"
   ]
  },
  {
   "cell_type": "code",
   "execution_count": 79,
   "metadata": {},
   "outputs": [],
   "source": [
    "ans = Solution()"
   ]
  },
  {
   "cell_type": "code",
   "execution_count": 80,
   "metadata": {},
   "outputs": [],
   "source": [
    "num_l1 = [2,4,3] # 342\n",
    "l1 = ListNodeNum(num_l1)\n",
    "num_l2 = [5,6,4] # 465\n",
    "l2 = ListNodeNum(num_l2)"
   ]
  },
  {
   "cell_type": "code",
   "execution_count": 90,
   "metadata": {},
   "outputs": [
    {
     "name": "stdout",
     "output_type": "stream",
     "text": [
      "342\n",
      "465\n"
     ]
    }
   ],
   "source": [
    "l1_num = PrintListNode(l1)\n",
    "[print(i,end='') for i in l1_num]\n",
    "print()\n",
    "l2_num = PrintListNode(l2)\n",
    "[print(i,end='') for i in l2_num]\n",
    "print()"
   ]
  },
  {
   "cell_type": "code",
   "execution_count": 89,
   "metadata": {},
   "outputs": [
    {
     "name": "stdout",
     "output_type": "stream",
     "text": [
      "807\n"
     ]
    }
   ],
   "source": [
    "result = PrintListNode(ans.addTwoNumbers(l1,l2))\n",
    "[print(i,end='') for i in result]\n",
    "print()"
   ]
  }
 ],
 "metadata": {
  "kernelspec": {
   "display_name": "Python 3",
   "language": "python",
   "name": "python3"
  },
  "language_info": {
   "codemirror_mode": {
    "name": "ipython",
    "version": 3
   },
   "file_extension": ".py",
   "mimetype": "text/x-python",
   "name": "python",
   "nbconvert_exporter": "python",
   "pygments_lexer": "ipython3",
   "version": "3.7.6"
  }
 },
 "nbformat": 4,
 "nbformat_minor": 2
}
