{
 "cells": [
  {
   "cell_type": "code",
   "execution_count": 39,
   "metadata": {},
   "outputs": [],
   "source": [
    "class Solution:\n",
    "    def longestCommonPrefix(self, strs: list) -> str:\n",
    "        if len(strs)<2:return(strs)\n",
    "        pre = strs[0]\n",
    "        temp = \"\"\n",
    "        for i in range(1,len(strs)):\n",
    "            for j in range(min(len(pre),len(strs[i]))):\n",
    "                if pre[j] == strs[i][j]:\n",
    "                    temp = temp + strs[i][j]\n",
    "                else:\n",
    "                    break\n",
    "            pre = temp\n",
    "            temp = \"\"\n",
    "        return(pre)    "
   ]
  },
  {
   "cell_type": "code",
   "execution_count": 40,
   "metadata": {},
   "outputs": [],
   "source": [
    "class Solution2:\n",
    "    def longestCommonPrefix(self, strs: list) -> str:\n",
    "        if len(strs)<2:return(strs)\n",
    "        a = min(strs)\n",
    "        b = max(strs)\n",
    "        for i in range(len(a)):\n",
    "            if a[i] == b[i]:\n",
    "                pass\n",
    "            else:\n",
    "                break\n",
    "        return(a[0:i])"
   ]
  },
  {
   "cell_type": "code",
   "execution_count": 41,
   "metadata": {},
   "outputs": [],
   "source": [
    "test = [\"flower\",\"flow\",\"flight\"]"
   ]
  },
  {
   "cell_type": "code",
   "execution_count": 42,
   "metadata": {},
   "outputs": [],
   "source": [
    "ans = Solution()\n",
    "ans2 = Solution2()"
   ]
  },
  {
   "cell_type": "code",
   "execution_count": 43,
   "metadata": {},
   "outputs": [
    {
     "data": {
      "text/plain": [
       "'fl'"
      ]
     },
     "execution_count": 43,
     "metadata": {},
     "output_type": "execute_result"
    }
   ],
   "source": [
    "ans.longestCommonPrefix(test)"
   ]
  },
  {
   "cell_type": "code",
   "execution_count": 44,
   "metadata": {},
   "outputs": [
    {
     "data": {
      "text/plain": [
       "'fl'"
      ]
     },
     "execution_count": 44,
     "metadata": {},
     "output_type": "execute_result"
    }
   ],
   "source": [
    "ans2.longestCommonPrefix(test)"
   ]
  }
 ],
 "metadata": {
  "kernelspec": {
   "display_name": "Python 3",
   "language": "python",
   "name": "python3"
  },
  "language_info": {
   "codemirror_mode": {
    "name": "ipython",
    "version": 3
   },
   "file_extension": ".py",
   "mimetype": "text/x-python",
   "name": "python",
   "nbconvert_exporter": "python",
   "pygments_lexer": "ipython3",
   "version": "3.7.6"
  }
 },
 "nbformat": 4,
 "nbformat_minor": 2
}
