{
 "cells": [
  {
   "cell_type": "code",
   "execution_count": 39,
   "metadata": {},
   "outputs": [],
   "source": [
    "class Solution:\n",
    "    def findMedianSortedArrays(self, nums1: list, nums2: list) -> float:\n",
    "        m = len(nums1)\n",
    "        n = len(nums2)\n",
    "        if n < m:\n",
    "            n,m=m,n\n",
    "            nums1,nums2 = nums2,nums1\n",
    "        low = 0\n",
    "        high = m\n",
    "        while (1==1):\n",
    "            i = int((low+high)/2)\n",
    "            j = int((m+n+1)/2-i) # i+j = m-i+n-j+1 => j = (m+n+1)/2-i\n",
    "            x_left = nums1[i-1] if i > 0 else float(\"-inf\")\n",
    "            x_right = nums1[i] if i < m else float(\"inf\")\n",
    "            y_left = nums2[j-1] if j > 0 else float(\"-inf\")\n",
    "            y_right = nums2[j] if j < n else float(\"inf\")\n",
    "            if x_left<=y_right and x_right>=y_left:\n",
    "                if (m+n)%2 == 0:\n",
    "                    return((max(x_left,y_left)+min(x_right,y_right))/2)\n",
    "                else:\n",
    "                    return(max(x_left,y_left))\n",
    "            if x_left>y_right:\n",
    "                high = high - 2\n",
    "            if x_right<y_left:\n",
    "                low = low + 2"
   ]
  },
  {
   "cell_type": "code",
   "execution_count": 53,
   "metadata": {},
   "outputs": [],
   "source": [
    "nums1 = [1,3]\n",
    "nums2 = [2]"
   ]
  },
  {
   "cell_type": "code",
   "execution_count": 54,
   "metadata": {},
   "outputs": [],
   "source": [
    "ans = Solution()"
   ]
  },
  {
   "cell_type": "code",
   "execution_count": 55,
   "metadata": {},
   "outputs": [
    {
     "data": {
      "text/plain": [
       "2"
      ]
     },
     "execution_count": 55,
     "metadata": {},
     "output_type": "execute_result"
    }
   ],
   "source": [
    "ans.findMedianSortedArrays(nums1,nums2)"
   ]
  },
  {
   "cell_type": "code",
   "execution_count": 56,
   "metadata": {},
   "outputs": [],
   "source": [
    "nums1 = [1,7,8,9,16]\n",
    "nums2 = [2,7,9,17,100]"
   ]
  },
  {
   "cell_type": "code",
   "execution_count": 57,
   "metadata": {},
   "outputs": [
    {
     "data": {
      "text/plain": [
       "8.5"
      ]
     },
     "execution_count": 57,
     "metadata": {},
     "output_type": "execute_result"
    }
   ],
   "source": [
    "ans.findMedianSortedArrays(nums1,nums2)"
   ]
  },
  {
   "cell_type": "code",
   "execution_count": 58,
   "metadata": {},
   "outputs": [
    {
     "data": {
      "text/plain": [
       "8.5"
      ]
     },
     "execution_count": 58,
     "metadata": {},
     "output_type": "execute_result"
    }
   ],
   "source": [
    "# check by python packages\n",
    "import statistics as stat\n",
    "stat.median(nums1+nums2)"
   ]
  }
 ],
 "metadata": {
  "kernelspec": {
   "display_name": "Python 3",
   "language": "python",
   "name": "python3"
  },
  "language_info": {
   "codemirror_mode": {
    "name": "ipython",
    "version": 3
   },
   "file_extension": ".py",
   "mimetype": "text/x-python",
   "name": "python",
   "nbconvert_exporter": "python",
   "pygments_lexer": "ipython3",
   "version": "3.7.6"
  }
 },
 "nbformat": 4,
 "nbformat_minor": 2
}
