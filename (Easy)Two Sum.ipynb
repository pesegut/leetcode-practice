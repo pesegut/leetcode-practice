{
 "cells": [
  {
   "cell_type": "markdown",
   "metadata": {},
   "source": [
    "Question:\n",
    "Given an array of integers, return indices of the two numbers such that they add up to a specific target.\n",
    "\n",
    "You may assume that each input would have exactly one solution, and you may not use the same element twice.\n",
    "\n",
    "Example:\n",
    "\n",
    "Given nums = [2, 7, 11, 15], target = 9,\n",
    "\n",
    "Because nums[0] + nums[1] = 2 + 7 = 9,\n",
    "return [0, 1]."
   ]
  },
  {
   "cell_type": "code",
   "execution_count": 1,
   "metadata": {},
   "outputs": [],
   "source": [
    "# O(n^2)解法\n",
    "class Solution:\n",
    "    def twoSum(self, nums, target):\n",
    "        #check equaling problem\n",
    "        eind = [j for j in range(len(nums)) if nums[j]==target/2]\n",
    "        nind = [j for j in range(len(nums)) if nums[j]<=0]\n",
    "        if len(eind) == 2:\n",
    "            return eind\n",
    "        #check negative problem\n",
    "        elif len(nind)>=1:\n",
    "            num_key = {j:i for i,j in enumerate(nums)}\n",
    "            num_set = nums\n",
    "            for i in range(len(num_set)):\n",
    "                for j in range(i+1,len(num_set)):\n",
    "                    if num_set[i]+num_set[j] == target:\n",
    "                        return [num_key[num_set[i]],num_key[num_set[j]]]\n",
    "        else:\n",
    "            num_key = {j:i for i,j in enumerate(nums)}\n",
    "            num_set = [k for k in nums if k<=target]\n",
    "            for i in range(len(num_set)):\n",
    "                for j in range(i+1,len(num_set)):\n",
    "                    if num_set[i]+num_set[j] == target:\n",
    "                        return [num_key[num_set[i]],num_key[num_set[j]]]"
   ]
  },
  {
   "cell_type": "code",
   "execution_count": 12,
   "metadata": {},
   "outputs": [],
   "source": [
    "# O(n)解法\n",
    "class Solution:\n",
    "    def twoSum(self, nums, target):\n",
    "        diffstore = {} #存nums與target的差值\n",
    "        for i,num in enumerate(nums):\n",
    "            if (target-num in diffstore.keys()):\n",
    "                return([diffstore[target-num],i])\n",
    "            else:\n",
    "                diffstore[num]=i\n",
    "        "
   ]
  },
  {
   "cell_type": "code",
   "execution_count": 15,
   "metadata": {},
   "outputs": [
    {
     "data": {
      "text/plain": [
       "[0, 1]"
      ]
     },
     "execution_count": 15,
     "metadata": {},
     "output_type": "execute_result"
    }
   ],
   "source": [
    "a = Solution.twoSum(1,[3,3],6)\n",
    "a"
   ]
  }
 ],
 "metadata": {
  "kernelspec": {
   "display_name": "Python 3",
   "language": "python",
   "name": "python3"
  },
  "language_info": {
   "codemirror_mode": {
    "name": "ipython",
    "version": 3
   },
   "file_extension": ".py",
   "mimetype": "text/x-python",
   "name": "python",
   "nbconvert_exporter": "python",
   "pygments_lexer": "ipython3",
   "version": "3.7.0"
  }
 },
 "nbformat": 4,
 "nbformat_minor": 2
}
