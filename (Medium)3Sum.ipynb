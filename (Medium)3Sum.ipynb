{
 "cells": [
  {
   "cell_type": "code",
   "execution_count": 18,
   "metadata": {},
   "outputs": [],
   "source": [
    "class Solution:\n",
    "    def threeSum(self, nums: list):\n",
    "        result = set()\n",
    "        nums.sort()\n",
    "        for i,v in enumerate(nums[:-2]):\n",
    "            if i > 0 and v==nums[i-1]:\n",
    "                continue\n",
    "            d = {} # using dictionary can accerate, list and set are both slower than dictionary.\n",
    "            for j in nums[i+1:]:\n",
    "                if not d.__contains__(j):\n",
    "                    d[-v-j] = None\n",
    "                else:\n",
    "                    result.add((v,-v-j,j))\n",
    "        return(result)"
   ]
  },
  {
   "cell_type": "code",
   "execution_count": 21,
   "metadata": {},
   "outputs": [],
   "source": [
    "test=[-1,0,1,2,-1,4]"
   ]
  },
  {
   "cell_type": "code",
   "execution_count": 22,
   "metadata": {},
   "outputs": [
    {
     "data": {
      "text/plain": [
       "{(-1, -1, 2), (-1, 0, 1)}"
      ]
     },
     "execution_count": 22,
     "metadata": {},
     "output_type": "execute_result"
    }
   ],
   "source": [
    "ans = Solution()\n",
    "ans.threeSum(test)"
   ]
  }
 ],
 "metadata": {
  "kernelspec": {
   "display_name": "Python 3",
   "language": "python",
   "name": "python3"
  },
  "language_info": {
   "codemirror_mode": {
    "name": "ipython",
    "version": 3
   },
   "file_extension": ".py",
   "mimetype": "text/x-python",
   "name": "python",
   "nbconvert_exporter": "python",
   "pygments_lexer": "ipython3",
   "version": "3.7.6"
  }
 },
 "nbformat": 4,
 "nbformat_minor": 2
}
