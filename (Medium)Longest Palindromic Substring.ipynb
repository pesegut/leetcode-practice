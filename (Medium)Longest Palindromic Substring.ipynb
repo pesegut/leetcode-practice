{
 "cells": [
  {
   "cell_type": "code",
   "execution_count": 4,
   "metadata": {},
   "outputs": [],
   "source": [
    "class Solution:\n",
    "    def longestPalindrome(self, s: str) -> str:\n",
    "        m = ''\n",
    "        for i in range(len(s)):\n",
    "            for j in range(len(s),i,-1):\n",
    "                if(j-i<=len(m)):\n",
    "                    break\n",
    "                if(s[i:j]==s[i:j][::-1]):\n",
    "                    m = s[i:j]\n",
    "                    break\n",
    "        return(m)"
   ]
  },
  {
   "cell_type": "code",
   "execution_count": null,
   "metadata": {},
   "outputs": [],
   "source": []
  }
 ],
 "metadata": {
  "kernelspec": {
   "display_name": "Python 3",
   "language": "python",
   "name": "python3"
  },
  "language_info": {
   "codemirror_mode": {
    "name": "ipython",
    "version": 3
   },
   "file_extension": ".py",
   "mimetype": "text/x-python",
   "name": "python",
   "nbconvert_exporter": "python",
   "pygments_lexer": "ipython3",
   "version": "3.7.6"
  }
 },
 "nbformat": 4,
 "nbformat_minor": 2
}
